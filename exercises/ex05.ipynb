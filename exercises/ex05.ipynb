{
 "cells": [
  {
   "cell_type": "markdown",
   "metadata": {},
   "source": [
    "# Exercise 5"
   ]
  },
  {
   "cell_type": "markdown",
   "metadata": {},
   "source": [
    "format string"
   ]
  },
  {
   "cell_type": "code",
   "execution_count": 15,
   "metadata": {},
   "outputs": [],
   "source": [
    "name = 'Zed A. Show'\n",
    "age = 35 # not a lie\n",
    "\n",
    "height = 74 # inches\n",
    "height_cm = round(height * 2.54)\n",
    "\n",
    "weight = 180 # lbs\n",
    "weight_kg = round(weight * 0.453592)\n",
    "\n",
    "eyes = 'Blue'\n",
    "teeth = 'White'\n",
    "hair = 'Brown'"
   ]
  },
  {
   "cell_type": "code",
   "execution_count": 18,
   "metadata": {},
   "outputs": [
    {
     "name": "stdout",
     "output_type": "stream",
     "text": [
      "Let's talk about Zed A. Show.\n",
      "He's 74 inches tall.\n",
      "In centimeters it's 188 cm.\n",
      "He's 180 pounds heavy.\n",
      "In kilograms it would be 82 kg.\n",
      "Acrually that's not too heavy.\n",
      "He's got Blue eyes and Brown hairs.\n",
      "His teeth are usually White deepending on the coffee.\n"
     ]
    }
   ],
   "source": [
    "print(f\"Let's talk about {name}.\")\n",
    "print(f\"He's {height} inches tall.\")\n",
    "print(f\"In centimeters it's {height_cm} cm.\")\n",
    "print(f\"He's {weight} pounds heavy.\")\n",
    "print(f\"In kilograms it would be {weight_kg} kg.\")\n",
    "print(\"Acrually that's not too heavy.\")\n",
    "print(f\"He's got {eyes} eyes and {hair} hairs.\")\n",
    "print(f\"His teeth are usually {teeth} deepending on the coffee.\")"
   ]
  },
  {
   "cell_type": "code",
   "execution_count": 17,
   "metadata": {},
   "outputs": [
    {
     "name": "stdout",
     "output_type": "stream",
     "text": [
      "If I add 35, 74 and 180 I get 289\n"
     ]
    }
   ],
   "source": [
    "total = age + height + weight\n",
    "print(f\"If I add {age}, {height} and {weight} I get {total}\")"
   ]
  },
  {
   "cell_type": "code",
   "execution_count": null,
   "metadata": {},
   "outputs": [],
   "source": []
  }
 ],
 "metadata": {
  "kernelspec": {
   "display_name": "Python 3",
   "language": "python",
   "name": "python3"
  },
  "language_info": {
   "codemirror_mode": {
    "name": "ipython",
    "version": 3
   },
   "file_extension": ".py",
   "mimetype": "text/x-python",
   "name": "python",
   "nbconvert_exporter": "python",
   "pygments_lexer": "ipython3",
   "version": "3.7.3"
  }
 },
 "nbformat": 4,
 "nbformat_minor": 2
}
